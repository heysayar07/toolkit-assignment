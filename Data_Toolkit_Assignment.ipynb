{
  "nbformat": 4,
  "nbformat_minor": 0,
  "metadata": {
    "colab": {
      "provenance": []
    },
    "kernelspec": {
      "name": "python3",
      "display_name": "Python 3"
    },
    "language_info": {
      "name": "python"
    }
  },
  "cells": [
    {
      "cell_type": "markdown",
      "source": [
        "1. What is NumPy, and why is it widely used in Python\n",
        "ans. NumPy (short for Numerical Python) is an open-source Python library used for numerical and scientific computing. It provides powerful support for working with large, multi-dimensional arrays and matrices, along with a collection of high-level mathematical functions to operate on these arrays efficiently.\n",
        "\n",
        "\n",
        "NumPy widely used in Python\n",
        "\n",
        "Performance:\n",
        "NumPy is implemented in C, so operations on arrays are significantly faster than native Python lists\n",
        "\n",
        "Multidimensional Arrays (ndarray):\n",
        "Its core data structure, ndarray, supports fast element-wise operations, broadcasting, and slicing.\n",
        "\n",
        "Convenient and Concise Syntax:\n",
        "Makes mathematical operations like matrix multiplication, Fourier transforms, and linear algebra more intuitive."
      ],
      "metadata": {
        "id": "FcKk1ZFpC6lA"
      }
    },
    {
      "cell_type": "code",
      "source": [
        "2.  How does broadcasting work in NumPy?\n",
        "\n",
        "How Broadcasting Works (Step-by-Step)\n",
        "\n",
        "When performing operations on two arrays:\n",
        "\n",
        "    Compare their shapes starting from the trailing (last) dimension.\n",
        "\n",
        "    Dimensions are compatible if:\n",
        "\n",
        "        They are equal, or\n",
        "\n",
        "        One of them is 1\n",
        "\n",
        "    If compatible, NumPy broadcasts the smaller array by virtually replicating its data along that dimension to match the larger shape."
      ],
      "metadata": {
        "id": "n3pyDTnQneFZ"
      },
      "execution_count": null,
      "outputs": []
    },
    {
      "cell_type": "markdown",
      "source": [
        "3. What is a Pandas DataFrame?\n",
        "\n",
        "A Pandas DataFrame is a two-dimensional, tabular data structure in the Pandas library (like a table in Excel or a SQL database). It allows you to store and manipulate labeled data efficiently in rows and columns."
      ],
      "metadata": {
        "id": "dZw0df5PnzJb"
      }
    },
    {
      "cell_type": "markdown",
      "source": [
        "4.  Explain the use of the groupby() method in Pandas.\n",
        "\n",
        "The groupby() method in Pandas is used to split a DataFrame into groups based on one or more columns, and then apply a function (like sum(), mean(), count(), etc.) to each group. It's very powerful for data analysis, aggregation, and reporting.\n",
        "Think of it as:\n",
        "\n",
        "    Split → Apply → Combine\n",
        "\n",
        "    Split: Divide the data into groups.\n",
        "\n",
        "    Apply: Apply a function to each group.\n",
        "\n",
        "    Combine: Merge the results into a new DataFrame."
      ],
      "metadata": {
        "id": "581uK_mjn8Wx"
      }
    },
    {
      "cell_type": "markdown",
      "source": [
        "5.  Why is Seaborn preferred for statistical visualizations?\n",
        "\n",
        "Seaborn is a Python data visualization library based on Matplotlib, but it's designed specifically for statistical plots with simpler syntax, beautiful default styles, and built-in support for complex datasets.\n",
        "##Key Reasons Why Seaborn is Preferred:##\n",
        "\n",
        "1. Built-in statistical plots\tSeaborn includes functions for common statistical visualizations like histograms, box plots, violin plots, regression plots, and heatmaps — all with minimal code.\n",
        "2. Simplified syntax\tHigh-level API makes complex plots easy with one-liners (e.g., sns.boxplot(), sns.lmplot()).\n",
        "3. Better aesthetics\tComes with attractive default color palettes and styles for professional-looking plots.\n",
        "4. Integrated with Pandas\tWorks directly with Pandas DataFrames — you can pass column names directly.\n",
        "5. Automatic statistical estimation\tFor example, sns.lmplot() automatically fits and plots a regression line.\n",
        "6. Multi-plot grids\tSupports Faceting (plotting multiple subsets of data) using FacetGrid and pairplot."
      ],
      "metadata": {
        "id": "rbZbd_WToP1J"
      }
    },
    {
      "cell_type": "markdown",
      "source": [
        "6. What are the differences between NumPy arrays and Python lists?\n",
        "\n",
        "##NumPy Arrays##\n",
        "NumPy arrays are a powerful data structure provided by the NumPy library in Python, mainly used for numerical and scientific computations. They are homogeneous, meaning all elements must be of the same data type, which makes them more memory-efficient and faster compared to Python lists. NumPy arrays support vectorized operations, allowing you to perform arithmetic and mathematical operations on entire arrays without writing explicit loops. They also come with many built-in functions like sum(), mean(), and dot() for advanced calculations. NumPy arrays are especially useful for handling large datasets and multi-dimensional data, such as matrices and tensors, commonly used in data science and machine learning.\n",
        "\n",
        "##Python Lists:##\n",
        "Python lists are built-in data structures that allow you to store a collection of items in a single variable. Unlike NumPy arrays, lists are heterogeneous, meaning they can hold elements of different data types such as integers, strings, and floats in the same list. They are flexible and easy to use but are generally slower for numerical operations, especially with large data. Python lists do not support element-wise arithmetic operations directly, so such tasks usually require loops or additional coding. While Python lists are great for general-purpose programming and everyday tasks, they are not optimized for numerical and scientific computing."
      ],
      "metadata": {
        "id": "3T79pvbCofIi"
      }
    },
    {
      "cell_type": "markdown",
      "source": [
        "7. What is a heatmap, and when should it be used?\n",
        "\n",
        "A heatmap is a data visualization technique that displays values in a matrix (or 2D grid) using color gradients to represent the magnitude of values. In a heatmap, darker or more intense colors typically represent higher values, while lighter colors represent lower values. It helps quickly identify patterns, correlations, or outliers in large datasets.\n",
        "\n",
        "Heatmaps are commonly used when you want to visualize the relationship between two variables, compare data across categories, or observe how data values vary across a range. For example, in data analysis, heatmaps are often used to show correlation matrices, pivot tables, or feature importance in machine learning. They are especially useful when dealing with large numerical datasets where visual patterns are easier to spot than raw numbers."
      ],
      "metadata": {
        "id": "QNcop7e0pI2q"
      }
    },
    {
      "cell_type": "markdown",
      "source": [
        "8. What does the term “vectorized operation” mean in NumPy ?\n",
        "\n",
        "Vectorized operations in NumPy refer to the ability to perform element-wise operations on entire arrays without using explicit loops. Instead of iterating through each element of an array and performing an operation, NumPy uses highly optimized C code to apply the operation directly to the entire array or large chunks of the data in a fast and efficient manner.\n",
        "\n",
        "This approach takes advantage of low-level optimizations, making the operations much faster than using traditional Python loops, which are slower due to the interpreted nature of Python."
      ],
      "metadata": {
        "id": "lmnCfOPepSly"
      }
    },
    {
      "cell_type": "markdown",
      "source": [
        "9. How does Matplotlib differ from Plotly ?\n",
        "\n",
        "Matplotlib and Plotly are both widely used Python libraries for data visualization, but they differ significantly in terms of functionality and use cases. Matplotlib is primarily used for creating static plots, such as line, bar, and histogram charts. It is highly customizable but can be more complex and verbose when creating advanced visualizations. It works best for scientific publications and static reports, where interactive features are not required. On the other hand, Plotly is designed for interactive visualizations, allowing users to zoom, pan, and hover over elements in the plot. It is ideal for creating interactive dashboards and web-based visualizations, where user engagement with the data is essential. Plotly also supports advanced 3D plotting, which Matplotlib can do but with more limited functionality. In terms of output, Matplotlib generates static image files (like PNG or PDF), while Plotly produces interactive HTML files that can be embedded in web applications. Overall, Matplotlib is preferred for static visualizations in research and reports, while Plotly excels in interactive data visualization for web-based projects and dynamic presentations."
      ],
      "metadata": {
        "id": "jFoHTflsqHdR"
      }
    },
    {
      "cell_type": "markdown",
      "source": [
        "10. What is the significance of hierarchical indexing in Pandas?\n",
        "\n",
        "Hierarchical indexing in Pandas, also known as MultiIndex, is a powerful feature that allows you to represent and work with multi-level or multi-dimensional data in a more organized and flexible way. This feature enables you to create complex, nested structures within a DataFrame or Series, making it easier to handle large datasets with multiple levels of categorization or grouping.\n",
        "Significance of Hierarchical Indexing:\n",
        "\n",
        "    Efficient Data Organization: Hierarchical indexing allows you to represent data in a nested manner with multiple levels of indices, which makes it easier to organize and manage datasets that have hierarchical or grouped data (e.g., time series data with multiple levels like year, month, and day).\n",
        "\n",
        "    Enhanced Data Manipulation: With MultiIndex, you can perform complex data operations more easily, such as grouping, slicing, and aggregating data across multiple levels. For example, you can group data by both country and city, making operations like filtering and aggregating more intuitive.\n",
        "\n",
        "    Improved Data Access: It provides a more convenient and expressive way to access data using multiple keys. For instance, you can select data from one or more levels of the index directly using .loc[], making data retrieval faster and more readable.\n",
        "\n",
        "    Complex Data Analysis: Hierarchical indexing is especially useful for scenarios that involve multi-dimensional analysis. For example, in financial analysis, you might have data indexed by both date and stock ticker symbol, and with hierarchical indexing, you can easily manipulate such data to analyze it at different levels.\n",
        "\n",
        "    Pivoting and Reshaping Data: Hierarchical indexing is crucial when reshaping data. You can use it in conjunction with operations like pivoting, stacking, and unstacking to transform data into more meaningful formats without losing hierarchical relationships."
      ],
      "metadata": {
        "id": "VHNdqgxtsJZm"
      }
    },
    {
      "cell_type": "markdown",
      "source": [
        "11. A What is the role of Seaborn’s pairplot() function?\n",
        "\n",
        "The pairplot() function in Seaborn is a powerful tool used for visualizing relationships between multiple variables in a dataset. It creates a matrix of scatterplots for each pair of variables, which helps to understand pairwise correlations and distributions in a dataset.\n",
        "Role and Significance of pairplot():\n",
        "\n",
        "    Pairwise Visual Exploration: pairplot() automatically plots scatter plots for all possible pairs of numerical columns in the dataset. This makes it easy to visually explore relationships between each pair of features, helping to identify patterns, trends, or correlations between them.\n",
        "\n",
        "    Diagonal Plots for Distribution: On the diagonal, pairplot() typically shows univariate distributions (usually histograms or KDE plots), which give insights into the distribution of each individual feature. This helps to check for skewness, outliers, or normality of the data.\n",
        "\n",
        "    Visualizing Correlations: By creating scatterplots for each pair of features, pairplot() makes it easy to see how features are related. Strong correlations between features are visible as linear trends in scatter plots.\n",
        "\n",
        "    Color Coding (Hue): The hue parameter allows you to color-code the data points based on a categorical variable. This is useful for visualizing the impact of different categories on the pairwise relationships between features. For example, in a dataset with different species of flowers, you can color the points by species to see how they differ in the pairwise relationships of their features.\n",
        "\n",
        "    Detecting Outliers and Patterns: The pairplot() can help to identify outliers, clusters, or groupings based on feature values. These visual clues can guide further statistical analysis or data preprocessing steps."
      ],
      "metadata": {
        "id": "1bhB8Ub2sSG-"
      }
    },
    {
      "cell_type": "markdown",
      "source": [
        "12. A What is the purpose of the describe() function in Pandas?\n",
        "\n",
        "The describe() function in Pandas is used to generate summary statistics of numerical columns in a DataFrame or Series. It provides a quick overview of the central tendencies, spread, and distribution of the data, which is especially helpful during the exploratory data analysis (EDA) phase.\n",
        "Purpose of the describe() Function:\n",
        "\n",
        "    Summary Statistics: The describe() function computes common statistical measures like:\n",
        "\n",
        "        Count: The number of non-null values in each column.\n",
        "\n",
        "        Mean: The average of the values.\n",
        "\n",
        "        Standard Deviation (std): Measures the dispersion or spread of the data.\n",
        "\n",
        "        Minimum (min): The smallest value in the column.\n",
        "\n",
        "        25th percentile (25%): The value below which 25% of the data falls (also called the first quartile).\n",
        "\n",
        "        50th percentile (50%): The median value (also called the second quartile).\n",
        "\n",
        "        75th percentile (75%): The value below which 75% of the data falls (also called the third quartile).\n",
        "\n",
        "        Maximum (max): The largest value in the column.\n",
        "\n",
        "    Quick Data Overview: It gives a quick summary of the distribution of values, which helps in understanding the data without looking at individual entries. This is particularly useful when dealing with large datasets.\n",
        "\n",
        "    Detecting Outliers and Anomalies: By comparing the min, max, and percentiles, you can spot potential outliers or unusual values in the data that may need further investigation.\n",
        "\n",
        "    Assessing Data Distribution: The mean and standard deviation give insights into how the data is distributed around the center. This helps to understand whether the data is skewed or symmetrical.\n",
        "\n",
        "    Works on Different Data Types: Although describe() is most commonly used on numerical data, it also works with categorical data, where it provides information like:\n",
        "\n",
        "        Count: The number of non-null entries.\n",
        "\n",
        "        Unique: The number of unique values.\n",
        "\n",
        "        Top: The most frequent value.\n",
        "\n",
        "        Freq: The frequency of the most frequent value."
      ],
      "metadata": {
        "id": "VjOSwhNo0jLE"
      }
    },
    {
      "cell_type": "markdown",
      "source": [
        "13.  Why is handling missing data important in Pandas?\n",
        "\n",
        "Handling missing data is crucial in Pandas (and in data analysis in general) because missing or null values can significantly impact the quality and reliability of data analysis and modeling. Proper handling of missing data ensures that you can extract meaningful insights from your dataset and prevent errors or biased results.\n",
        "Importance of Handling Missing Data in Pandas:\n",
        "\n",
        "    Data Integrity: Missing data can distort the analysis, leading to inaccurate conclusions. For example, when performing calculations like mean, sum, or correlation, missing values can cause errors or skew the results if not addressed.\n",
        "\n",
        "    Impact on Machine Learning Models: Many machine learning algorithms cannot handle missing values directly. They either require the missing data to be imputed (replaced with a meaningful value) or removed. If missing data is not handled correctly, it could affect the model accuracy and performance.\n",
        "\n",
        "    Loss of Information: Simply dropping rows or columns with missing values may lead to loss of valuable information, especially if the data is sparse or important for the analysis. Imputation (filling in missing values) can help preserve the integrity of the dataset while making it suitable for further analysis.\n",
        "\n",
        "    Bias in Analysis: Incomplete data can introduce bias if the missing values are not missing at random (i.e., there is a pattern to why they are missing). If the missing data is not handled properly, it could lead to misleading or skewed insights.\n",
        "\n",
        "    Cleaner, More Reliable Results: By handling missing data, you ensure that the final analysis is based on a cleaner and more complete dataset, which improves the reliability and accuracy of your conclusions.\n",
        "\n",
        "    Preprocessing for Further Steps: In data preprocessing, handling missing values is often one of the first steps before applying other techniques like normalization, scaling, or encoding. Missing data can disrupt these steps if not addressed early."
      ],
      "metadata": {
        "id": "bYXcDvvl0s8e"
      }
    },
    {
      "cell_type": "markdown",
      "source": [
        "14.  What are the benefits of using Plotly for data visualization ?\n",
        "\n",
        "Plotly is a powerful and versatile data visualization library that offers several benefits for creating interactive, high-quality visualizations. It is particularly popular in web-based applications and dashboards due to its dynamic features and ease of integration. Here are some key benefits of using Plotly for data visualization:\n",
        "a. Interactive Visualizations\n",
        "\n",
        "Plotly allows you to create highly interactive visualizations. Users can:\n",
        "\n",
        "    Zoom in and out of plots for detailed views.\n",
        "\n",
        "    Hover over data points to see additional information.\n",
        "\n",
        "    Pan and adjust the viewing area for a better understanding of the data.\n",
        "    This interactivity is particularly useful for exploring large datasets where users may need to inspect individual data points or focus on specific regions.\n",
        "\n",
        "b. Wide Range of Chart Types\n",
        "\n",
        "Plotly supports a variety of chart types, including:\n",
        "\n",
        "    Line, scatter, and bar charts\n",
        "\n",
        "    3D charts for complex visualizations (e.g., 3D scatter, surface plots)\n",
        "\n",
        "    Heatmaps, bubble charts, pie charts, and contour plots\n",
        "\n",
        "    Geospatial charts like choropleth maps and scatter plots on maps.\n",
        "    This wide range of chart types makes Plotly suitable for visualizing many different kinds of data, from simple to complex datasets.\n",
        "\n",
        "c. High-Quality, Publication-Ready Graphics\n",
        "\n",
        "Plotly generates high-quality graphics that are suitable for publishing in reports, presentations, and online content. The library uses WebGL and SVG rendering, allowing for smooth and high-resolution plots even with large datasets.\n",
        "d.  Easy to Customize\n",
        "\n",
        "Plotly offers extensive customization options for fine-tuning your visualizations. You can:\n",
        "\n",
        "    Modify colors, labels, and axes.\n",
        "\n",
        "    Customize layout, including titles, margins, and fonts.\n",
        "\n",
        "    Add interactive legends, annotations, and shapes.\n",
        "    This flexibility allows you to create visualizations that fit your specific aesthetic or branding needs.\n",
        "\n",
        "e. Built-in Dashboards\n",
        "\n",
        "Plotly works seamlessly with Dash, a Python framework for building interactive web applications. This allows users to easily create dynamic, real-time dashboards and embed Plotly visualizations in web-based apps. Dash also integrates well with Flask for more advanced web application development."
      ],
      "metadata": {
        "id": "S6pHc98F00p7"
      }
    },
    {
      "cell_type": "markdown",
      "source": [
        "15.  How does NumPy handle multidimensional arrays?\n",
        "\n",
        "NumPy handles multidimensional arrays using a powerful data structure called the ndarray (short for \"n-dimensional array\"). This ndarray allows you to create and manipulate arrays of any dimension—1D, 2D, 3D, and higher—efficiently and with a consistent syntax. Multidimensional arrays are essential for scientific computing, image processing, machine learning, and many other tasks where data is represented in more than one axis (e.g., rows and columns in a matrix or depth in a 3D array).\n",
        "\n",
        "#How NumPy Handles Multidimensional Arrays:\n",
        "\n",
        "Creation of Multidimensional Arrays:\n",
        "    NumPy provides functions like np.array(), np.zeros(), np.ones(), np.empty(), and np.arange() to create arrays of any shape and size.\n",
        "\n",
        "Shape and Dimensions:\n",
        "    Every NumPy array has attributes like .ndim (number of dimensions) and .shape (a tuple showing the size along each dimension)\n",
        "\n",
        "Indexing and Slicing:\n",
        "    NumPy supports multi-axis indexing, which allows direct access to any element or slice of an array."
      ],
      "metadata": {
        "id": "7_kIv5dE0-nK"
      }
    },
    {
      "cell_type": "markdown",
      "source": [
        "16. What is the role of Bokeh in data visualization?\n",
        "\n",
        "Bokeh is a powerful Python library for interactive data visualization, particularly designed to create visually appealing, web-based graphics directly from Python code. Its main role is to enable users—especially data scientists and developers—to create interactive plots, dashboards, and data applications that can be easily shared via web browsers without requiring JavaScript knowledge.\n",
        "Key Roles and Features of Bokeh in Data Visualization:\n",
        "\n",
        "  Interactive Visualizations:\n",
        "    One of Bokeh’s most notable strengths is its ability to generate highly interactive plots. Users can zoom, pan, hover, and filter data directly within the browser, making data exploration more dynamic and intuitive. Tools like sliders, dropdowns, and input boxes can be added to make plots react in real time.\n",
        "\n",
        "  Web Integration:\n",
        "    Bokeh is designed to work seamlessly with web technologies. It renders visualizations using HTML, JavaScript, and WebGL, which means you can embed plots directly in web pages or apps. This makes Bokeh ideal for creating live data dashboards and analytical web applications.\n",
        "\n",
        "  High-Level and Low-Level Interfaces:\n",
        "    Bokeh provides both a high-level interface for quickly generating common plot types (like line, bar, scatter, or heatmaps) and a low-level interface for building more custom, detailed visualizations. This flexibility caters to both beginners and advanced users."
      ],
      "metadata": {
        "id": "16pCOXp11jzI"
      }
    },
    {
      "cell_type": "markdown",
      "source": [
        "17.  Explain the difference between apply() and map() in Pandas?\n",
        "\n",
        "In Pandas, both apply() and map() are used to apply functions to data, but they serve slightly different purposes and are used in different contexts. Here's a clear explanation of the difference between the two:\n",
        "\n",
        "map() Function:\n",
        "\n",
        "    Used with: Pandas Series only (i.e., a single column).\n",
        "\n",
        "    Purpose: To transform each element in a Series using a function, dictionary, or a mapping correspondence.\n",
        "\n",
        "    Example use-case: Replacing or modifying values in a column.\n",
        "\n",
        "    Returns: A new Series where the function has been applied element-wise.\n",
        "\n",
        "  \n",
        "  apply() Function:\n",
        "\n",
        "    Used with: Both Series and DataFrames.\n",
        "\n",
        "    Purpose: To apply a function to an entire Series or along an axis of a DataFrame (either row-wise or column-wise).\n",
        "\n",
        "    More flexible than map()—can handle complex operations involving multiple columns or rows.\n",
        "\n",
        "    Returns: A Series, DataFrame, or a scalar depending on the function and axis used.\n",
        "\n",
        "\n"
      ],
      "metadata": {
        "id": "reEGbX_F1uth"
      }
    },
    {
      "cell_type": "markdown",
      "source": [
        "18. What are some advanced features of NumPy?\n",
        "\n",
        "a). Broadcasting\n",
        "\n",
        "Broadcasting is a powerful feature that allows NumPy to perform arithmetic operations on arrays of different shapes without explicitly replicating data. It simplifies code and improves performance. For example, adding a scalar to a matrix or adding two arrays of different dimensions is possible due to broadcasting.\n",
        "\n",
        "b). Vectorization\n",
        "\n",
        "Vectorization refers to replacing explicit loops with array expressions, allowing operations to be performed faster using optimized C and Fortran libraries under the hood. This results in significant speed improvements over standard Python loops.\n",
        "\n",
        "c). Advanced Indexing and Slicing\n",
        "\n",
        "NumPy supports a variety of advanced indexing techniques:\n",
        "\n",
        "  * Boolean indexing (filtering elements based on condition)\n",
        "\n",
        "  * Fancy indexing (using arrays of indices to select elements)\n",
        "\n",
        "  * Multi-dimensional slicing"
      ],
      "metadata": {
        "id": "h7pScVz51-Ay"
      }
    },
    {
      "cell_type": "markdown",
      "source": [
        "19. How does Pandas simplify time series analysis ?\n",
        "\n",
        "Pandas simplifies time series analysis by offering a rich set of features specifically designed to handle date and time data efficiently and intuitively. Time series data often includes timestamps, periodicity, or time intervals, and Pandas provides tools to parse, manipulate, analyze, and visualize this data with ease.\n",
        "Key Ways Pandas Simplifies Time Series Analysis:\n",
        "\n",
        "  Datetime Indexing (DateTimeIndex):\n",
        "    Pandas allows you to set a column of dates as the index, enabling powerful time-based slicing and filtering. Once the datetime index is set, you can easily access data by year, month, day, or even hour.\n",
        "  Automatic Date Parsing:\n",
        "    With functions like pd.to_datetime(), Pandas can intelligently parse a wide range of date formats into datetime objects, saving time on data cleaning.\n",
        "  Date Range Generation:\n",
        "    You can generate custom date ranges using pd.date_range() with different frequencies like days, hours, weeks, or business days.\n"
      ],
      "metadata": {
        "id": "hPKiEsqa2cXQ"
      }
    },
    {
      "cell_type": "markdown",
      "source": [
        "20. What is the role of a pivot table in Pandas?\n",
        "\n",
        "The pivot table in Pandas plays a crucial role in summarizing and analyzing data in a structured and flexible way. Similar to Excel pivot tables, Pandas' pivot_table() function allows you to reshape and aggregate data based on multiple keys (columns), making it easier to understand trends, comparisons, and patterns within large datasets.\n",
        "Key Roles and Features of Pivot Tables in Pandas:\n",
        "\n",
        "  Data Summarization:\n",
        "    A pivot table can summarize large datasets by grouping and calculating statistical metrics like mean, sum, count, min, max, etc. This helps in reducing complex datasets into a manageable format.\n",
        " Reshaping Data:\n",
        "    It allows you to reorganize data by moving rows into columns or vice versa without altering the original data, making it ideal for creating comparative views of multiple variables.\n",
        " Aggregation by Multiple Levels:\n",
        "    You can group data by more than one column in both the index and the columns, enabling multi-dimensional analysis. For example, comparing sales by region and year side by side."
      ],
      "metadata": {
        "id": "jbJB8sd43AYd"
      }
    },
    {
      "cell_type": "markdown",
      "source": [
        "21. Why is NumPy’s array slicing faster than Python’s list slicing?\n",
        "\n",
        "ChatGPT said:\n",
        "\n",
        "NumPy’s array slicing is faster than Python’s list slicing primarily because NumPy arrays are implemented in C and use contiguous memory blocks, allowing for much more efficient access and manipulation of data. When you slice a NumPy array, it doesn’t copy the data—instead, it creates a view (a lightweight reference to the original data) unless explicitly told to copy. This means NumPy avoids the overhead of copying elements during slicing, unlike Python lists which store elements as separate objects and require more time to create a new list from a slice.\n",
        "\n",
        "In addition, NumPy operations—including slicing—are highly vectorized and optimized at a low level. This means operations are handled in compiled code rather than interpreted Python loops, resulting in faster performance. Moreover, NumPy arrays are homogeneous (all elements are of the same type), which allows for better memory usage and faster computation. In contrast, Python lists are heterogeneous and require more flexible (and slower) handling during slicing."
      ],
      "metadata": {
        "id": "WiznQp5m7QO3"
      }
    },
    {
      "cell_type": "markdown",
      "source": [
        "22.  What are some common use cases for Seaborn?\n",
        "\n",
        "Seaborn is a Python data visualization library built on top of Matplotlib, specifically designed for creating statistical graphics with ease and style. It is widely used in data analysis and exploration tasks due to its simplicity, aesthetics, and ability to integrate well with Pandas DataFrames. Here are some common use cases for Seaborn:\n",
        "a). Exploring Relationships Between Variables\n",
        "\n",
        "Seaborn makes it easy to visualize relationships between two or more variables using functions like:\n",
        "\n",
        "    * scatterplot() – for continuous data\n",
        "\n",
        "    * lineplot() – for trends over time\n",
        "\n",
        "    * regplot() or lmplot() – to visualize regression lines with scatterplots\n",
        "\n",
        "These are often used in exploratory data analysis to uncover correlations or patterns.\n",
        "b). Distribution Analysis\n",
        "\n",
        "You can analyze the distribution of a single variable using:\n",
        "\n",
        "    * histplot() – for histograms\n",
        "\n",
        "    * kdeplot() – for Kernel Density Estimation\n",
        "\n",
        "    * boxplot(), violinplot() – for summary of distributions and outliers\n",
        "\n",
        "These plots help in understanding skewness, spread, and shape of the data.\n",
        "c).  Categorical Data Visualization\n",
        "\n",
        "Seaborn offers powerful tools for comparing categories:\n",
        "\n",
        "    * barplot() – for mean values of a variable grouped by category\n",
        "\n",
        "    * countplot() – for frequency counts\n",
        "\n",
        "    * stripplot() and swarmplot() – to show individual observations within categories\n",
        "\n",
        "These are commonly used in business intelligence and marketing analytics."
      ],
      "metadata": {
        "id": "JcTaSDRa7sO1"
      }
    },
    {
      "cell_type": "markdown",
      "source": [
        "##Practical##"
      ],
      "metadata": {
        "id": "UmbPW5Ut7-Yf"
      }
    },
    {
      "cell_type": "code",
      "source": [
        "#1. A How do you create a 2D NumPy array and calculate the sum of each row?\n",
        "\n",
        "import numpy as np\n",
        "\n",
        "# Create a 2D NumPy array\n",
        "arr = np.array([[1, 2, 3],\n",
        "                [4, 5, 6],\n",
        "                [7, 8, 9]])\n",
        "\n",
        "# Calculate the sum of each row\n",
        "row_sums = arr.sum(axis=1)\n",
        "\n",
        "# Print the result\n",
        "print(\"2D Array:\")\n",
        "print(arr)\n",
        "print(\"\\nSum of each row:\")\n",
        "print(row_sums)\n",
        "\n",
        "\n"
      ],
      "metadata": {
        "colab": {
          "base_uri": "https://localhost:8080/"
        },
        "id": "jbvWhIjb8c8R",
        "outputId": "a590f921-d9a5-4aa7-c3eb-4eea52c35f16"
      },
      "execution_count": 1,
      "outputs": [
        {
          "output_type": "stream",
          "name": "stdout",
          "text": [
            "2D Array:\n",
            "[[1 2 3]\n",
            " [4 5 6]\n",
            " [7 8 9]]\n",
            "\n",
            "Sum of each row:\n",
            "[ 6 15 24]\n"
          ]
        }
      ]
    },
    {
      "cell_type": "code",
      "source": [
        "#2.  Write a Pandas script to find the mean of a specific column in a DataFrame.\n",
        "\n",
        "import pandas as pd\n",
        "\n",
        "# Sample DataFrame creation\n",
        "data = {'Name': ['Alice', 'Bob', 'Charlie', 'David', 'Eve'],\n",
        "        'Age': [25, 30, 35, 40, 45],\n",
        "        'Salary': [50000, 60000, 70000, 80000, 90000]}\n",
        "\n",
        "df = pd.DataFrame(data)\n",
        "\n",
        "# Calculate the mean of the 'Age' column\n",
        "age_mean = df['Age'].mean()\n",
        "\n",
        "# Output the result\n",
        "print(f\"The mean age is: {age_mean}\")\n"
      ],
      "metadata": {
        "colab": {
          "base_uri": "https://localhost:8080/"
        },
        "id": "nZgMIQI_8zQn",
        "outputId": "4dd76e08-396e-40ab-90f7-3503ea59e08e"
      },
      "execution_count": 2,
      "outputs": [
        {
          "output_type": "stream",
          "name": "stdout",
          "text": [
            "The mean age is: 35.0\n"
          ]
        }
      ]
    },
    {
      "cell_type": "code",
      "source": [
        "#3.  Create a scatter plot using Matplotlib\n",
        "\n",
        "import matplotlib.pyplot as plt\n",
        "\n",
        "# Sample data for the scatter plot\n",
        "x = [1, 2, 3, 4, 5]\n",
        "y = [2, 4, 6, 8, 10]\n",
        "\n",
        "# Create the scatter plot\n",
        "plt.scatter(x, y)\n",
        "\n",
        "# Add title and labels\n",
        "plt.title('Sample Scatter Plot')\n",
        "plt.xlabel('X-axis')\n",
        "plt.ylabel('Y-axis')\n",
        "\n",
        "# Display the plot\n",
        "plt.show()\n"
      ],
      "metadata": {
        "colab": {
          "base_uri": "https://localhost:8080/",
          "height": 472
        },
        "id": "fgmJGIWZ87mY",
        "outputId": "21d44ac7-375a-4183-87f3-1e6241302b34"
      },
      "execution_count": 3,
      "outputs": [
        {
          "output_type": "display_data",
          "data": {
            "text/plain": [
              "<Figure size 640x480 with 1 Axes>"
            ],
            "image/png": "[encoded data removed]"
          },
          "metadata": {}
        }
      ]
    },
    {
      "cell_type": "code",
      "source": [
        "#4.  How do you calculate the correlation matrix using Seaborn and visualize it with a heatmap\n",
        "\n",
        "import seaborn as sns\n",
        "import matplotlib.pyplot as plt\n",
        "import pandas as pd\n",
        "\n",
        "# Sample DataFrame\n",
        "data = {\n",
        "    'A': [1, 2, 3, 4, 5],\n",
        "    'B': [5, 4, 3, 2, 1],\n",
        "    'C': [2, 3, 4, 5, 6],\n",
        "    'D': [6, 5, 4, 3, 2]\n",
        "}\n",
        "\n",
        "# Convert the dictionary into a DataFrame\n",
        "df = pd.DataFrame(data)\n",
        "\n",
        "# Calculate the correlation matrix\n",
        "corr_matrix = df.corr()\n",
        "\n",
        "# Visualize the correlation matrix with a heatmap\n",
        "sns.heatmap(corr_matrix, annot=True, cmap='coolwarm', linewidths=0.5)\n",
        "\n",
        "# Add title and display the plot\n",
        "plt.title('Correlation Matrix Heatmap')\n",
        "plt.show()\n"
      ],
      "metadata": {
        "colab": {
          "base_uri": "https://localhost:8080/",
          "height": 452
        },
        "id": "qVvRIOTQ9VFv",
        "outputId": "abbc1dcf-44af-4ddb-8b24-47850767d7e2"
      },
      "execution_count": 4,
      "outputs": [
        {
          "output_type": "display_data",
          "data": {
            "text/plain": [
              "<Figure size 640x480 with 2 Axes>"
            ],
            "image/png": "[encoded data removed]"
          },
          "metadata": {}
        }
      ]
    },
    {
      "cell_type": "code",
      "source": [
        "#5.  Generate a bar plot using Plotly.\n",
        "\n",
        "import plotly.express as px\n",
        "\n",
        "# Sample data\n",
        "data = {\n",
        "    'Category': ['A', 'B', 'C', 'D', 'E'],\n",
        "    'Values': [10, 15, 7, 25, 18]\n",
        "}\n",
        "\n",
        "# Create a DataFrame\n",
        "import pandas as pd\n",
        "df = pd.DataFrame(data)\n",
        "\n",
        "# Create the bar plot\n",
        "fig = px.bar(df, x='Category', y='Values', title='Bar Plot using Plotly')\n",
        "\n",
        "# Show the plot\n",
        "fig.show()\n"
      ],
      "metadata": {
        "colab": {
          "base_uri": "https://localhost:8080/",
          "height": 542
        },
        "id": "Kk_cABc89e5Z",
        "outputId": "e970903b-5681-4a99-d523-eab2879566f0"
      },
      "execution_count": 5,
      "outputs": [
        {
          "output_type": "display_data",
          "data": {
            "text/html": [
              "<html>\n",
              "<head><meta charset=\"utf-8\" /></head>\n",
              "<body>\n",
              "    <div>            <script src=\"https://cdnjs.cloudflare.com/ajax/libs/mathjax/2.7.5/MathJax.js?config=TeX-AMS-MML_SVG\"></script><script type=\"text/javascript\">if (window.MathJax && window.MathJax.Hub && window.MathJax.Hub.Config) {window.MathJax.Hub.Config({SVG: {font: \"STIX-Web\"}});}</script>                <script type=\"text/javascript\">window.PlotlyConfig = {MathJaxConfig: 'local'};</script>\n",
              "        <script charset=\"utf-8\" src=\"https://cdn.plot.ly/plotly-2.35.2.min.js\"></script>                <div id=\"ea3ea1d2-1a33-4bbd-bd70-8bf22e1e48be\" class=\"plotly-graph-div\" style=\"height:525px; width:100%;\"></div>            <script type=\"text/javascript\">                                    window.PLOTLYENV=window.PLOTLYENV || {};                                    if (document.getElementById(\"ea3ea1d2-1a33-4bbd-bd70-8bf22e1e48be\")) {                    Plotly.newPlot(                        \"ea3ea1d2-1a33-4bbd-bd70-8bf22e1e48be\",                        [{\"alignmentgroup\":\"True\",\"hovertemplate\":\"Category=%{x}\\u003cbr\\u003eValues=%{y}\\u003cextra\\u003e\\u003c\\u002fextra\\u003e\",\"legendgroup\":\"\",\"marker\":{\"color\":\"#636efa\",\"pattern\":{\"shape\":\"\"}},\"name\":\"\",\"offsetgroup\":\"\",\"orientation\":\"v\",\"showlegend\":false,\"textposition\":\"auto\",\"x\":[\"A\",\"B\",\"C\",\"D\",\"E\"],\"xaxis\":\"x\",\"y\":[10,15,7,25,18],\"yaxis\":\"y\",\"type\":\"bar\"}],                        {\"template\":{\"data\":{\"histogram2dcontour\":[{\"type\":\"histogram2dcontour\",\"colorbar\":{\"outlinewidth\":0,\"ticks\":\"\"},\"colorscale\":[[0.0,\"#0d0887\"],[0.1111111111111111,\"#46039f\"],[0.2222222222222222,\"#7201a8\"],[0.3333333333333333,\"#9c179e\"],[0.4444444444444444,\"#bd3786\"],[0.5555555555555556,\"#d8576b\"],[0.6666666666666666,\"#ed7953\"],[0.7777777777777778,\"#fb9f3a\"],[0.8888888888888888,\"#fdca26\"],[1.0,\"#f0f921\"]]}],\"choropleth\":[{\"type\":\"choropleth\",\"colorbar\":{\"outlinewidth\":0,\"ticks\":\"\"}}],\"histogram2d\":[{\"type\":\"histogram2d\",\"colorbar\":{\"outlinewidth\":0,\"ticks\":\"\"},\"colorscale\":[[0.0,\"#0d0887\"],[0.1111111111111111,\"#46039f\"],[0.2222222222222222,\"#7201a8\"],[0.3333333333333333,\"#9c179e\"],[0.4444444444444444,\"#bd3786\"],[0.5555555555555556,\"#d8576b\"],[0.6666666666666666,\"#ed7953\"],[0.7777777777777778,\"#fb9f3a\"],[0.8888888888888888,\"#fdca26\"],[1.0,\"#f0f921\"]]}],\"heatmap\":[{\"type\":\"heatmap\",\"colorbar\":{\"outlinewidth\":0,\"ticks\":\"\"},\"colorscale\":[[0.0,\"#0d0887\"],[0.1111111111111111,\"#46039f\"],[0.2222222222222222,\"#7201a8\"],[0.3333333333333333,\"#9c179e\"],[0.4444444444444444,\"#bd3786\"],[0.5555555555555556,\"#d8576b\"],[0.6666666666666666,\"#ed7953\"],[0.7777777777777778,\"#fb9f3a\"],[0.8888888888888888,\"#fdca26\"],[1.0,\"#f0f921\"]]}],\"heatmapgl\":[{\"type\":\"heatmapgl\",\"colorbar\":{\"outlinewidth\":0,\"ticks\":\"\"},\"colorscale\":[[0.0,\"#0d0887\"],[0.1111111111111111,\"#46039f\"],[0.2222222222222222,\"#7201a8\"],[0.3333333333333333,\"#9c179e\"],[0.4444444444444444,\"#bd3786\"],[0.5555555555555556,\"#d8576b\"],[0.6666666666666666,\"#ed7953\"],[0.7777777777777778,\"#fb9f3a\"],[0.8888888888888888,\"#fdca26\"],[1.0,\"#f0f921\"]]}],\"contourcarpet\":[{\"type\":\"contourcarpet\",\"colorbar\":{\"outlinewidth\":0,\"ticks\":\"\"}}],\"contour\":[{\"type\":\"contour\",\"colorbar\":{\"outlinewidth\":0,\"ticks\":\"\"},\"colorscale\":[[0.0,\"#0d0887\"],[0.1111111111111111,\"#46039f\"],[0.2222222222222222,\"#7201a8\"],[0.3333333333333333,\"#9c179e\"],[0.4444444444444444,\"#bd3786\"],[0.5555555555555556,\"#d8576b\"],[0.6666666666666666,\"#ed7953\"],[0.7777777777777778,\"#fb9f3a\"],[0.8888888888888888,\"#fdca26\"],[1.0,\"#f0f921\"]]}],\"surface\":[{\"type\":\"surface\",\"colorbar\":{\"outlinewidth\":0,\"ticks\":\"\"},\"colorscale\":[[0.0,\"#0d0887\"],[0.1111111111111111,\"#46039f\"],[0.2222222222222222,\"#7201a8\"],[0.3333333333333333,\"#9c179e\"],[0.4444444444444444,\"#bd3786\"],[0.5555555555555556,\"#d8576b\"],[0.6666666666666666,\"#ed7953\"],[0.7777777777777778,\"#fb9f3a\"],[0.8888888888888888,\"#fdca26\"],[1.0,\"#f0f921\"]]}],\"mesh3d\":[{\"type\":\"mesh3d\",\"colorbar\":{\"outlinewidth\":0,\"ticks\":\"\"}}],\"scatter\":[{\"fillpattern\":{\"fillmode\":\"overlay\",\"size\":10,\"solidity\":0.2},\"type\":\"scatter\"}],\"parcoords\":[{\"type\":\"parcoords\",\"line\":{\"colorbar\":{\"outlinewidth\":0,\"ticks\":\"\"}}}],\"scatterpolargl\":[{\"type\":\"scatterpolargl\",\"marker\":{\"colorbar\":{\"outlinewidth\":0,\"ticks\":\"\"}}}],\"bar\":[{\"error_x\":{\"color\":\"#2a3f5f\"},\"error_y\":{\"color\":\"#2a3f5f\"},\"marker\":{\"line\":{\"color\":\"#E5ECF6\",\"width\":0.5},\"pattern\":{\"fillmode\":\"overlay\",\"size\":10,\"solidity\":0.2}},\"type\":\"bar\"}],\"scattergeo\":[{\"type\":\"scattergeo\",\"marker\":{\"colorbar\":{\"outlinewidth\":0,\"ticks\":\"\"}}}],\"scatterpolar\":[{\"type\":\"scatterpolar\",\"marker\":{\"colorbar\":{\"outlinewidth\":0,\"ticks\":\"\"}}}],\"histogram\":[{\"marker\":{\"pattern\":{\"fillmode\":\"overlay\",\"size\":10,\"solidity\":0.2}},\"type\":\"histogram\"}],\"scattergl\":[{\"type\":\"scattergl\",\"marker\":{\"colorbar\":{\"outlinewidth\":0,\"ticks\":\"\"}}}],\"scatter3d\":[{\"type\":\"scatter3d\",\"line\":{\"colorbar\":{\"outlinewidth\":0,\"ticks\":\"\"}},\"marker\":{\"colorbar\":{\"outlinewidth\":0,\"ticks\":\"\"}}}],\"scattermapbox\":[{\"type\":\"scattermapbox\",\"marker\":{\"colorbar\":{\"outlinewidth\":0,\"ticks\":\"\"}}}],\"scatterternary\":[{\"type\":\"scatterternary\",\"marker\":{\"colorbar\":{\"outlinewidth\":0,\"ticks\":\"\"}}}],\"scattercarpet\":[{\"type\":\"scattercarpet\",\"marker\":{\"colorbar\":{\"outlinewidth\":0,\"ticks\":\"\"}}}],\"carpet\":[{\"aaxis\":{\"endlinecolor\":\"#2a3f5f\",\"gridcolor\":\"white\",\"linecolor\":\"white\",\"minorgridcolor\":\"white\",\"startlinecolor\":\"#2a3f5f\"},\"baxis\":{\"endlinecolor\":\"#2a3f5f\",\"gridcolor\":\"white\",\"linecolor\":\"white\",\"minorgridcolor\":\"white\",\"startlinecolor\":\"#2a3f5f\"},\"type\":\"carpet\"}],\"table\":[{\"cells\":{\"fill\":{\"color\":\"#EBF0F8\"},\"line\":{\"color\":\"white\"}},\"header\":{\"fill\":{\"color\":\"#C8D4E3\"},\"line\":{\"color\":\"white\"}},\"type\":\"table\"}],\"barpolar\":[{\"marker\":{\"line\":{\"color\":\"#E5ECF6\",\"width\":0.5},\"pattern\":{\"fillmode\":\"overlay\",\"size\":10,\"solidity\":0.2}},\"type\":\"barpolar\"}],\"pie\":[{\"automargin\":true,\"type\":\"pie\"}]},\"layout\":{\"autotypenumbers\":\"strict\",\"colorway\":[\"#636efa\",\"#EF553B\",\"#00cc96\",\"#ab63fa\",\"#FFA15A\",\"#19d3f3\",\"#FF6692\",\"#B6E880\",\"#FF97FF\",\"#FECB52\"],\"font\":{\"color\":\"#2a3f5f\"},\"hovermode\":\"closest\",\"hoverlabel\":{\"align\":\"left\"},\"paper_bgcolor\":\"white\",\"plot_bgcolor\":\"#E5ECF6\",\"polar\":{\"bgcolor\":\"#E5ECF6\",\"angularaxis\":{\"gridcolor\":\"white\",\"linecolor\":\"white\",\"ticks\":\"\"},\"radialaxis\":{\"gridcolor\":\"white\",\"linecolor\":\"white\",\"ticks\":\"\"}},\"ternary\":{\"bgcolor\":\"#E5ECF6\",\"aaxis\":{\"gridcolor\":\"white\",\"linecolor\":\"white\",\"ticks\":\"\"},\"baxis\":{\"gridcolor\":\"white\",\"linecolor\":\"white\",\"ticks\":\"\"},\"caxis\":{\"gridcolor\":\"white\",\"linecolor\":\"white\",\"ticks\":\"\"}},\"coloraxis\":{\"colorbar\":{\"outlinewidth\":0,\"ticks\":\"\"}},\"colorscale\":{\"sequential\":[[0.0,\"#0d0887\"],[0.1111111111111111,\"#46039f\"],[0.2222222222222222,\"#7201a8\"],[0.3333333333333333,\"#9c179e\"],[0.4444444444444444,\"#bd3786\"],[0.5555555555555556,\"#d8576b\"],[0.6666666666666666,\"#ed7953\"],[0.7777777777777778,\"#fb9f3a\"],[0.8888888888888888,\"#fdca26\"],[1.0,\"#f0f921\"]],\"sequentialminus\":[[0.0,\"#0d0887\"],[0.1111111111111111,\"#46039f\"],[0.2222222222222222,\"#7201a8\"],[0.3333333333333333,\"#9c179e\"],[0.4444444444444444,\"#bd3786\"],[0.5555555555555556,\"#d8576b\"],[0.6666666666666666,\"#ed7953\"],[0.7777777777777778,\"#fb9f3a\"],[0.8888888888888888,\"#fdca26\"],[1.0,\"#f0f921\"]],\"diverging\":[[0,\"#8e0152\"],[0.1,\"#c51b7d\"],[0.2,\"#de77ae\"],[0.3,\"#f1b6da\"],[0.4,\"#fde0ef\"],[0.5,\"#f7f7f7\"],[0.6,\"#e6f5d0\"],[0.7,\"#b8e186\"],[0.8,\"#7fbc41\"],[0.9,\"#4d9221\"],[1,\"#276419\"]]},\"xaxis\":{\"gridcolor\":\"white\",\"linecolor\":\"white\",\"ticks\":\"\",\"title\":{\"standoff\":15},\"zerolinecolor\":\"white\",\"automargin\":true,\"zerolinewidth\":2},\"yaxis\":{\"gridcolor\":\"white\",\"linecolor\":\"white\",\"ticks\":\"\",\"title\":{\"standoff\":15},\"zerolinecolor\":\"white\",\"automargin\":true,\"zerolinewidth\":2},\"scene\":{\"xaxis\":{\"backgroundcolor\":\"#E5ECF6\",\"gridcolor\":\"white\",\"linecolor\":\"white\",\"showbackground\":true,\"ticks\":\"\",\"zerolinecolor\":\"white\",\"gridwidth\":2},\"yaxis\":{\"backgroundcolor\":\"#E5ECF6\",\"gridcolor\":\"white\",\"linecolor\":\"white\",\"showbackground\":true,\"ticks\":\"\",\"zerolinecolor\":\"white\",\"gridwidth\":2},\"zaxis\":{\"backgroundcolor\":\"#E5ECF6\",\"gridcolor\":\"white\",\"linecolor\":\"white\",\"showbackground\":true,\"ticks\":\"\",\"zerolinecolor\":\"white\",\"gridwidth\":2}},\"shapedefaults\":{\"line\":{\"color\":\"#2a3f5f\"}},\"annotationdefaults\":{\"arrowcolor\":\"#2a3f5f\",\"arrowhead\":0,\"arrowwidth\":1},\"geo\":{\"bgcolor\":\"white\",\"landcolor\":\"#E5ECF6\",\"subunitcolor\":\"white\",\"showland\":true,\"showlakes\":true,\"lakecolor\":\"white\"},\"title\":{\"x\":0.05},\"mapbox\":{\"style\":\"light\"}}},\"xaxis\":{\"anchor\":\"y\",\"domain\":[0.0,1.0],\"title\":{\"text\":\"Category\"}},\"yaxis\":{\"anchor\":\"x\",\"domain\":[0.0,1.0],\"title\":{\"text\":\"Values\"}},\"legend\":{\"tracegroupgap\":0},\"title\":{\"text\":\"Bar Plot using Plotly\"},\"barmode\":\"relative\"},                        {\"responsive\": true}                    ).then(function(){\n",
              "                            \n",
              "var gd = document.getElementById('ea3ea1d2-1a33-4bbd-bd70-8bf22e1e48be');\n",
              "var x = new MutationObserver(function (mutations, observer) {{\n",
              "        var display = window.getComputedStyle(gd).display;\n",
              "        if (!display || display === 'none') {{\n",
              "            console.log([gd, 'removed!']);\n",
              "            Plotly.purge(gd);\n",
              "            observer.disconnect();\n",
              "        }}\n",
              "}});\n",
              "\n",
              "// Listen for the removal of the full notebook cells\n",
              "var notebookContainer = gd.closest('#notebook-container');\n",
              "if (notebookContainer) {{\n",
              "    x.observe(notebookContainer, {childList: true});\n",
              "}}\n",
              "\n",
              "// Listen for the clearing of the current output cell\n",
              "var outputEl = gd.closest('.output');\n",
              "if (outputEl) {{\n",
              "    x.observe(outputEl, {childList: true});\n",
              "}}\n",
              "\n",
              "                        })                };                            </script>        </div>\n",
              "</body>\n",
              "</html>"
            ]
          },
          "metadata": {}
        }
      ]
    },
    {
      "cell_type": "code",
      "source": [
        "#6. Create a DataFrame and add a new column based on an existing column.\n",
        "\n",
        "import pandas as pd\n",
        "\n",
        "# Sample DataFrame creation\n",
        "data = {\n",
        "    'Name': ['Alice', 'Bob', 'Charlie', 'David', 'Eve'],\n",
        "    'Age': [25, 30, 35, 40, 45],\n",
        "}\n",
        "\n",
        "# Convert the dictionary into a DataFrame\n",
        "df = pd.DataFrame(data)\n",
        "\n",
        "# Add a new column 'Age_in_10_years' based on the existing 'Age' column\n",
        "df['Age_in_10_years'] = df['Age'] + 10\n",
        "\n",
        "# Display the updated DataFrame\n",
        "print(df)\n"
      ],
      "metadata": {
        "colab": {
          "base_uri": "https://localhost:8080/"
        },
        "id": "XQFEuOaT9qE3",
        "outputId": "1b23b7c0-4bbf-4242-f615-97d6027ce7d4"
      },
      "execution_count": 6,
      "outputs": [
        {
          "output_type": "stream",
          "name": "stdout",
          "text": [
            "      Name  Age  Age_in_10_years\n",
            "0    Alice   25               35\n",
            "1      Bob   30               40\n",
            "2  Charlie   35               45\n",
            "3    David   40               50\n",
            "4      Eve   45               55\n"
          ]
        }
      ]
    },
    {
      "cell_type": "code",
      "source": [
        "#7.  Write a program to perform element-wise multiplication of two NumPy arrays.\n",
        "\n",
        "import numpy as np\n",
        "\n",
        "# Create two NumPy arrays\n",
        "array1 = np.array([1, 2, 3, 4, 5])\n",
        "array2 = np.array([5, 4, 3, 2, 1])\n",
        "\n",
        "# Perform element-wise multiplication\n",
        "result = array1 * array2\n",
        "\n",
        "# Display the result\n",
        "print(\"Array 1:\", array1)\n",
        "print(\"Array 2:\", array2)\n",
        "print(\"Element-wise multiplication result:\", result)\n"
      ],
      "metadata": {
        "colab": {
          "base_uri": "https://localhost:8080/"
        },
        "id": "ah1Aizi992uC",
        "outputId": "dc8b5090-9248-4f3c-a41a-14e89b5cc521"
      },
      "execution_count": 7,
      "outputs": [
        {
          "output_type": "stream",
          "name": "stdout",
          "text": [
            "Array 1: [1 2 3 4 5]\n",
            "Array 2: [5 4 3 2 1]\n",
            "Element-wise multiplication result: [5 8 9 8 5]\n"
          ]
        }
      ]
    },
    {
      "cell_type": "code",
      "source": [
        "#8. Create a line plot with multiple lines using Matplotlib.\n",
        "\n",
        "import matplotlib.pyplot as plt\n",
        "\n",
        "# Sample data for multiple lines\n",
        "x = [0, 1, 2, 3, 4, 5]\n",
        "y1 = [0, 1, 4, 9, 16, 25]  # First line (y = x^2)\n",
        "y2 = [0, 1, 2, 3, 4, 5]    # Second line (y = x)\n",
        "y3 = [0, -1, -2, -3, -4, -5]  # Third line (y = -x)\n",
        "\n",
        "# Create a line plot with multiple lines\n",
        "plt.plot(x, y1, label='y = x^2', color='blue', marker='o')\n",
        "plt.plot(x, y2, label='y = x', color='green', marker='x')\n",
        "plt.plot(x, y3, label='y = -x', color='red', marker='s')\n",
        "\n",
        "# Add title and labels\n",
        "plt.title('Multiple Line Plot')\n",
        "plt.xlabel('X-axis')\n",
        "plt.ylabel('Y-axis')\n",
        "\n",
        "# Show legend\n",
        "plt.legend()\n",
        "\n",
        "# Display the plot\n",
        "plt.show()\n"
      ],
      "metadata": {
        "colab": {
          "base_uri": "https://localhost:8080/",
          "height": 472
        },
        "id": "82I2pkeq9-Kd",
        "outputId": "eab2780b-4d1d-42ab-b961-0788b42048c0"
      },
      "execution_count": 8,
      "outputs": [
        {
          "output_type": "display_data",
          "data": {
            "text/plain": [
              "<Figure size 640x480 with 1 Axes>"
            ],
            "image/png": "[encoded data removed]"
          },
          "metadata": {}
        }
      ]
    },
    {
      "cell_type": "code",
      "source": [
        "#9. Generate a Pandas DataFrame and filter rows where a column value is greater than a threshold.\n",
        "\n",
        "import pandas as pd\n",
        "\n",
        "# Sample DataFrame creation\n",
        "data = {\n",
        "    'Name': ['Alice', 'Bob', 'Charlie', 'David', 'Eve'],\n",
        "    'Age': [25, 30, 35, 40, 45],\n",
        "    'Salary': [50000, 60000, 70000, 80000, 90000]\n",
        "}\n",
        "\n",
        "# Convert the dictionary into a DataFrame\n",
        "df = pd.DataFrame(data)\n",
        "\n",
        "# Define the threshold for filtering\n",
        "threshold = 35\n",
        "\n",
        "# Filter rows where 'Age' is greater than the threshold\n",
        "filtered_df = df[df['Age'] > threshold]\n",
        "\n",
        "# Display the filtered DataFrame\n",
        "print(filtered_df)\n"
      ],
      "metadata": {
        "colab": {
          "base_uri": "https://localhost:8080/"
        },
        "id": "sOsCAXPi-GjB",
        "outputId": "3536113e-10fe-4540-e0c4-19697945d5e3"
      },
      "execution_count": 9,
      "outputs": [
        {
          "output_type": "stream",
          "name": "stdout",
          "text": [
            "    Name  Age  Salary\n",
            "3  David   40   80000\n",
            "4    Eve   45   90000\n"
          ]
        }
      ]
    },
    {
      "cell_type": "code",
      "source": [
        "#10. Create a histogram using Seaborn to visualize a distribution.\n",
        "\n",
        "import seaborn as sns\n",
        "import matplotlib.pyplot as plt\n",
        "\n",
        "# Sample data (e.g., ages of individuals)\n",
        "data = [25, 30, 35, 40, 45, 50, 55, 60, 65, 70, 75, 80, 85, 90, 95, 100]\n",
        "\n",
        "# Create a histogram using Seaborn\n",
        "sns.histplot(data, kde=True, color='blue', bins=10)\n",
        "\n",
        "# Add title and labels\n",
        "plt.title('Histogram with Distribution Curve')\n",
        "plt.xlabel('Age')\n",
        "plt.ylabel('Frequency')\n",
        "\n",
        "# Display the plot\n",
        "plt.show()\n"
      ],
      "metadata": {
        "colab": {
          "base_uri": "https://localhost:8080/",
          "height": 472
        },
        "id": "0OuFKc1W-OTm",
        "outputId": "f6efdfd3-1b05-4089-e74c-8a0c339f54a3"
      },
      "execution_count": 10,
      "outputs": [
        {
          "output_type": "display_data",
          "data": {
            "text/plain": [
              "<Figure size 640x480 with 1 Axes>"
            ],
            "image/png": "[encoded data removed]"
          },
          "metadata": {}
        }
      ]
    },
    {
      "cell_type": "code",
      "source": [
        "#11. A Perform matrix multiplication using NumPy.\n",
        "import numpy as np\n",
        "\n",
        "# Create two NumPy arrays (matrices)\n",
        "matrix1 = np.array([[1, 2], [3, 4]])\n",
        "matrix2 = np.array([[5, 6], [7, 8]])\n",
        "\n",
        "# Perform matrix multiplication\n",
        "result = np.matmul(matrix1, matrix2)\n",
        "\n",
        "# Alternatively, you can use the dot product method:\n",
        "# result = np.dot(matrix1, matrix2)\n",
        "\n",
        "# Display the result\n",
        "print(\"Matrix 1:\")\n",
        "print(matrix1)\n",
        "\n",
        "print(\"\\nMatrix 2:\")\n",
        "print(matrix2)\n",
        "\n",
        "print(\"\\nMatrix Multiplication Result:\")\n",
        "print(result)\n"
      ],
      "metadata": {
        "colab": {
          "base_uri": "https://localhost:8080/"
        },
        "id": "sSLv5WU--Xsd",
        "outputId": "134107bd-7639-415b-9261-b3b1db4df4d3"
      },
      "execution_count": 11,
      "outputs": [
        {
          "output_type": "stream",
          "name": "stdout",
          "text": [
            "Matrix 1:\n",
            "[[1 2]\n",
            " [3 4]]\n",
            "\n",
            "Matrix 2:\n",
            "[[5 6]\n",
            " [7 8]]\n",
            "\n",
            "Matrix Multiplication Result:\n",
            "[[19 22]\n",
            " [43 50]]\n"
          ]
        }
      ]
    },
    {
      "cell_type": "code",
      "source": [
        "#12.  Use Pandas to load a CSV file and display its first 5 rows.\n",
        "\n",
        "import pandas as pd\n",
        "\n",
        "# Load the CSV file into a DataFrame (replace 'your_file.csv' with your actual file path)\n",
        "df = pd.read_csv('your_file.csv')\n",
        "\n",
        "# Display the first 5 rows of the DataFrame\n",
        "print(df.head())\n"
      ],
      "metadata": {
        "id": "JF53RPhc-fG7"
      },
      "execution_count": null,
      "outputs": []
    },
    {
      "cell_type": "code",
      "source": [
        "#13. A Create a 3D scatter plot using Plotly.\n",
        "\n",
        "import plotly.express as px\n",
        "import pandas as pd\n",
        "\n",
        "# Sample data for 3D scatter plot\n",
        "data = {\n",
        "    'X': [1, 2, 3, 4, 5, 6, 7, 8, 9, 10],\n",
        "    'Y': [10, 9, 8, 7, 6, 5, 4, 3, 2, 1],\n",
        "    'Z': [1, 4, 9, 16, 25, 36, 49, 64, 81, 100]\n",
        "}\n",
        "\n",
        "# Create a DataFrame\n",
        "df = pd.DataFrame(data)\n",
        "\n",
        "# Create a 3D scatter plot\n",
        "fig = px.scatter_3d(df, x='X', y='Y', z='Z', title='3D Scatter Plot')\n",
        "\n",
        "# Show the plot\n",
        "fig.show()\n"
      ],
      "metadata": {
        "colab": {
          "base_uri": "https://localhost:8080/",
          "height": 542
        },
        "id": "S7EiqMmO-qLq",
        "outputId": "28bae486-99b5-4e17-fab6-15a05946c357"
      },
      "execution_count": 13,
      "outputs": [
        {
          "output_type": "display_data",
          "data": {
            "text/html": [
              "<html>\n",
              "<head><meta charset=\"utf-8\" /></head>\n",
              "<body>\n",
              "    <div>            <script src=\"https://cdnjs.cloudflare.com/ajax/libs/mathjax/2.7.5/MathJax.js?config=TeX-AMS-MML_SVG\"></script><script type=\"text/javascript\">if (window.MathJax && window.MathJax.Hub && window.MathJax.Hub.Config) {window.MathJax.Hub.Config({SVG: {font: \"STIX-Web\"}});}</script>                <script type=\"text/javascript\">window.PlotlyConfig = {MathJaxConfig: 'local'};</script>\n",
              "        <script charset=\"utf-8\" src=\"https://cdn.plot.ly/plotly-2.35.2.min.js\"></script>                <div id=\"0cce43dd-f804-4fbd-a6bd-de9e6e14f05f\" class=\"plotly-graph-div\" style=\"height:525px; width:100%;\"></div>            <script type=\"text/javascript\">                                    window.PLOTLYENV=window.PLOTLYENV || {};                                    if (document.getElementById(\"0cce43dd-f804-4fbd-a6bd-de9e6e14f05f\")) {                    Plotly.newPlot(                        \"0cce43dd-f804-4fbd-a6bd-de9e6e14f05f\",                        [{\"hovertemplate\":\"X=%{x}\\u003cbr\\u003eY=%{y}\\u003cbr\\u003eZ=%{z}\\u003cextra\\u003e\\u003c\\u002fextra\\u003e\",\"legendgroup\":\"\",\"marker\":{\"color\":\"#636efa\",\"symbol\":\"circle\"},\"mode\":\"markers\",\"name\":\"\",\"scene\":\"scene\",\"showlegend\":false,\"x\":[1,2,3,4,5,6,7,8,9,10],\"y\":[10,9,8,7,6,5,4,3,2,1],\"z\":[1,4,9,16,25,36,49,64,81,100],\"type\":\"scatter3d\"}],                        {\"template\":{\"data\":{\"histogram2dcontour\":[{\"type\":\"histogram2dcontour\",\"colorbar\":{\"outlinewidth\":0,\"ticks\":\"\"},\"colorscale\":[[0.0,\"#0d0887\"],[0.1111111111111111,\"#46039f\"],[0.2222222222222222,\"#7201a8\"],[0.3333333333333333,\"#9c179e\"],[0.4444444444444444,\"#bd3786\"],[0.5555555555555556,\"#d8576b\"],[0.6666666666666666,\"#ed7953\"],[0.7777777777777778,\"#fb9f3a\"],[0.8888888888888888,\"#fdca26\"],[1.0,\"#f0f921\"]]}],\"choropleth\":[{\"type\":\"choropleth\",\"colorbar\":{\"outlinewidth\":0,\"ticks\":\"\"}}],\"histogram2d\":[{\"type\":\"histogram2d\",\"colorbar\":{\"outlinewidth\":0,\"ticks\":\"\"},\"colorscale\":[[0.0,\"#0d0887\"],[0.1111111111111111,\"#46039f\"],[0.2222222222222222,\"#7201a8\"],[0.3333333333333333,\"#9c179e\"],[0.4444444444444444,\"#bd3786\"],[0.5555555555555556,\"#d8576b\"],[0.6666666666666666,\"#ed7953\"],[0.7777777777777778,\"#fb9f3a\"],[0.8888888888888888,\"#fdca26\"],[1.0,\"#f0f921\"]]}],\"heatmap\":[{\"type\":\"heatmap\",\"colorbar\":{\"outlinewidth\":0,\"ticks\":\"\"},\"colorscale\":[[0.0,\"#0d0887\"],[0.1111111111111111,\"#46039f\"],[0.2222222222222222,\"#7201a8\"],[0.3333333333333333,\"#9c179e\"],[0.4444444444444444,\"#bd3786\"],[0.5555555555555556,\"#d8576b\"],[0.6666666666666666,\"#ed7953\"],[0.7777777777777778,\"#fb9f3a\"],[0.8888888888888888,\"#fdca26\"],[1.0,\"#f0f921\"]]}],\"heatmapgl\":[{\"type\":\"heatmapgl\",\"colorbar\":{\"outlinewidth\":0,\"ticks\":\"\"},\"colorscale\":[[0.0,\"#0d0887\"],[0.1111111111111111,\"#46039f\"],[0.2222222222222222,\"#7201a8\"],[0.3333333333333333,\"#9c179e\"],[0.4444444444444444,\"#bd3786\"],[0.5555555555555556,\"#d8576b\"],[0.6666666666666666,\"#ed7953\"],[0.7777777777777778,\"#fb9f3a\"],[0.8888888888888888,\"#fdca26\"],[1.0,\"#f0f921\"]]}],\"contourcarpet\":[{\"type\":\"contourcarpet\",\"colorbar\":{\"outlinewidth\":0,\"ticks\":\"\"}}],\"contour\":[{\"type\":\"contour\",\"colorbar\":{\"outlinewidth\":0,\"ticks\":\"\"},\"colorscale\":[[0.0,\"#0d0887\"],[0.1111111111111111,\"#46039f\"],[0.2222222222222222,\"#7201a8\"],[0.3333333333333333,\"#9c179e\"],[0.4444444444444444,\"#bd3786\"],[0.5555555555555556,\"#d8576b\"],[0.6666666666666666,\"#ed7953\"],[0.7777777777777778,\"#fb9f3a\"],[0.8888888888888888,\"#fdca26\"],[1.0,\"#f0f921\"]]}],\"surface\":[{\"type\":\"surface\",\"colorbar\":{\"outlinewidth\":0,\"ticks\":\"\"},\"colorscale\":[[0.0,\"#0d0887\"],[0.1111111111111111,\"#46039f\"],[0.2222222222222222,\"#7201a8\"],[0.3333333333333333,\"#9c179e\"],[0.4444444444444444,\"#bd3786\"],[0.5555555555555556,\"#d8576b\"],[0.6666666666666666,\"#ed7953\"],[0.7777777777777778,\"#fb9f3a\"],[0.8888888888888888,\"#fdca26\"],[1.0,\"#f0f921\"]]}],\"mesh3d\":[{\"type\":\"mesh3d\",\"colorbar\":{\"outlinewidth\":0,\"ticks\":\"\"}}],\"scatter\":[{\"fillpattern\":{\"fillmode\":\"overlay\",\"size\":10,\"solidity\":0.2},\"type\":\"scatter\"}],\"parcoords\":[{\"type\":\"parcoords\",\"line\":{\"colorbar\":{\"outlinewidth\":0,\"ticks\":\"\"}}}],\"scatterpolargl\":[{\"type\":\"scatterpolargl\",\"marker\":{\"colorbar\":{\"outlinewidth\":0,\"ticks\":\"\"}}}],\"bar\":[{\"error_x\":{\"color\":\"#2a3f5f\"},\"error_y\":{\"color\":\"#2a3f5f\"},\"marker\":{\"line\":{\"color\":\"#E5ECF6\",\"width\":0.5},\"pattern\":{\"fillmode\":\"overlay\",\"size\":10,\"solidity\":0.2}},\"type\":\"bar\"}],\"scattergeo\":[{\"type\":\"scattergeo\",\"marker\":{\"colorbar\":{\"outlinewidth\":0,\"ticks\":\"\"}}}],\"scatterpolar\":[{\"type\":\"scatterpolar\",\"marker\":{\"colorbar\":{\"outlinewidth\":0,\"ticks\":\"\"}}}],\"histogram\":[{\"marker\":{\"pattern\":{\"fillmode\":\"overlay\",\"size\":10,\"solidity\":0.2}},\"type\":\"histogram\"}],\"scattergl\":[{\"type\":\"scattergl\",\"marker\":{\"colorbar\":{\"outlinewidth\":0,\"ticks\":\"\"}}}],\"scatter3d\":[{\"type\":\"scatter3d\",\"line\":{\"colorbar\":{\"outlinewidth\":0,\"ticks\":\"\"}},\"marker\":{\"colorbar\":{\"outlinewidth\":0,\"ticks\":\"\"}}}],\"scattermapbox\":[{\"type\":\"scattermapbox\",\"marker\":{\"colorbar\":{\"outlinewidth\":0,\"ticks\":\"\"}}}],\"scatterternary\":[{\"type\":\"scatterternary\",\"marker\":{\"colorbar\":{\"outlinewidth\":0,\"ticks\":\"\"}}}],\"scattercarpet\":[{\"type\":\"scattercarpet\",\"marker\":{\"colorbar\":{\"outlinewidth\":0,\"ticks\":\"\"}}}],\"carpet\":[{\"aaxis\":{\"endlinecolor\":\"#2a3f5f\",\"gridcolor\":\"white\",\"linecolor\":\"white\",\"minorgridcolor\":\"white\",\"startlinecolor\":\"#2a3f5f\"},\"baxis\":{\"endlinecolor\":\"#2a3f5f\",\"gridcolor\":\"white\",\"linecolor\":\"white\",\"minorgridcolor\":\"white\",\"startlinecolor\":\"#2a3f5f\"},\"type\":\"carpet\"}],\"table\":[{\"cells\":{\"fill\":{\"color\":\"#EBF0F8\"},\"line\":{\"color\":\"white\"}},\"header\":{\"fill\":{\"color\":\"#C8D4E3\"},\"line\":{\"color\":\"white\"}},\"type\":\"table\"}],\"barpolar\":[{\"marker\":{\"line\":{\"color\":\"#E5ECF6\",\"width\":0.5},\"pattern\":{\"fillmode\":\"overlay\",\"size\":10,\"solidity\":0.2}},\"type\":\"barpolar\"}],\"pie\":[{\"automargin\":true,\"type\":\"pie\"}]},\"layout\":{\"autotypenumbers\":\"strict\",\"colorway\":[\"#636efa\",\"#EF553B\",\"#00cc96\",\"#ab63fa\",\"#FFA15A\",\"#19d3f3\",\"#FF6692\",\"#B6E880\",\"#FF97FF\",\"#FECB52\"],\"font\":{\"color\":\"#2a3f5f\"},\"hovermode\":\"closest\",\"hoverlabel\":{\"align\":\"left\"},\"paper_bgcolor\":\"white\",\"plot_bgcolor\":\"#E5ECF6\",\"polar\":{\"bgcolor\":\"#E5ECF6\",\"angularaxis\":{\"gridcolor\":\"white\",\"linecolor\":\"white\",\"ticks\":\"\"},\"radialaxis\":{\"gridcolor\":\"white\",\"linecolor\":\"white\",\"ticks\":\"\"}},\"ternary\":{\"bgcolor\":\"#E5ECF6\",\"aaxis\":{\"gridcolor\":\"white\",\"linecolor\":\"white\",\"ticks\":\"\"},\"baxis\":{\"gridcolor\":\"white\",\"linecolor\":\"white\",\"ticks\":\"\"},\"caxis\":{\"gridcolor\":\"white\",\"linecolor\":\"white\",\"ticks\":\"\"}},\"coloraxis\":{\"colorbar\":{\"outlinewidth\":0,\"ticks\":\"\"}},\"colorscale\":{\"sequential\":[[0.0,\"#0d0887\"],[0.1111111111111111,\"#46039f\"],[0.2222222222222222,\"#7201a8\"],[0.3333333333333333,\"#9c179e\"],[0.4444444444444444,\"#bd3786\"],[0.5555555555555556,\"#d8576b\"],[0.6666666666666666,\"#ed7953\"],[0.7777777777777778,\"#fb9f3a\"],[0.8888888888888888,\"#fdca26\"],[1.0,\"#f0f921\"]],\"sequentialminus\":[[0.0,\"#0d0887\"],[0.1111111111111111,\"#46039f\"],[0.2222222222222222,\"#7201a8\"],[0.3333333333333333,\"#9c179e\"],[0.4444444444444444,\"#bd3786\"],[0.5555555555555556,\"#d8576b\"],[0.6666666666666666,\"#ed7953\"],[0.7777777777777778,\"#fb9f3a\"],[0.8888888888888888,\"#fdca26\"],[1.0,\"#f0f921\"]],\"diverging\":[[0,\"#8e0152\"],[0.1,\"#c51b7d\"],[0.2,\"#de77ae\"],[0.3,\"#f1b6da\"],[0.4,\"#fde0ef\"],[0.5,\"#f7f7f7\"],[0.6,\"#e6f5d0\"],[0.7,\"#b8e186\"],[0.8,\"#7fbc41\"],[0.9,\"#4d9221\"],[1,\"#276419\"]]},\"xaxis\":{\"gridcolor\":\"white\",\"linecolor\":\"white\",\"ticks\":\"\",\"title\":{\"standoff\":15},\"zerolinecolor\":\"white\",\"automargin\":true,\"zerolinewidth\":2},\"yaxis\":{\"gridcolor\":\"white\",\"linecolor\":\"white\",\"ticks\":\"\",\"title\":{\"standoff\":15},\"zerolinecolor\":\"white\",\"automargin\":true,\"zerolinewidth\":2},\"scene\":{\"xaxis\":{\"backgroundcolor\":\"#E5ECF6\",\"gridcolor\":\"white\",\"linecolor\":\"white\",\"showbackground\":true,\"ticks\":\"\",\"zerolinecolor\":\"white\",\"gridwidth\":2},\"yaxis\":{\"backgroundcolor\":\"#E5ECF6\",\"gridcolor\":\"white\",\"linecolor\":\"white\",\"showbackground\":true,\"ticks\":\"\",\"zerolinecolor\":\"white\",\"gridwidth\":2},\"zaxis\":{\"backgroundcolor\":\"#E5ECF6\",\"gridcolor\":\"white\",\"linecolor\":\"white\",\"showbackground\":true,\"ticks\":\"\",\"zerolinecolor\":\"white\",\"gridwidth\":2}},\"shapedefaults\":{\"line\":{\"color\":\"#2a3f5f\"}},\"annotationdefaults\":{\"arrowcolor\":\"#2a3f5f\",\"arrowhead\":0,\"arrowwidth\":1},\"geo\":{\"bgcolor\":\"white\",\"landcolor\":\"#E5ECF6\",\"subunitcolor\":\"white\",\"showland\":true,\"showlakes\":true,\"lakecolor\":\"white\"},\"title\":{\"x\":0.05},\"mapbox\":{\"style\":\"light\"}}},\"scene\":{\"domain\":{\"x\":[0.0,1.0],\"y\":[0.0,1.0]},\"xaxis\":{\"title\":{\"text\":\"X\"}},\"yaxis\":{\"title\":{\"text\":\"Y\"}},\"zaxis\":{\"title\":{\"text\":\"Z\"}}},\"legend\":{\"tracegroupgap\":0},\"title\":{\"text\":\"3D Scatter Plot\"}},                        {\"responsive\": true}                    ).then(function(){\n",
              "                            \n",
              "var gd = document.getElementById('0cce43dd-f804-4fbd-a6bd-de9e6e14f05f');\n",
              "var x = new MutationObserver(function (mutations, observer) {{\n",
              "        var display = window.getComputedStyle(gd).display;\n",
              "        if (!display || display === 'none') {{\n",
              "            console.log([gd, 'removed!']);\n",
              "            Plotly.purge(gd);\n",
              "            observer.disconnect();\n",
              "        }}\n",
              "}});\n",
              "\n",
              "// Listen for the removal of the full notebook cells\n",
              "var notebookContainer = gd.closest('#notebook-container');\n",
              "if (notebookContainer) {{\n",
              "    x.observe(notebookContainer, {childList: true});\n",
              "}}\n",
              "\n",
              "// Listen for the clearing of the current output cell\n",
              "var outputEl = gd.closest('.output');\n",
              "if (outputEl) {{\n",
              "    x.observe(outputEl, {childList: true});\n",
              "}}\n",
              "\n",
              "                        })                };                            </script>        </div>\n",
              "</body>\n",
              "</html>"
            ]
          },
          "metadata": {}
        }
      ]
    }
  ]
}